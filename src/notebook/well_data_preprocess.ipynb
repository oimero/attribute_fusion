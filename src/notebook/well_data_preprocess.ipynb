{
 "cells": [
  {
   "cell_type": "markdown",
   "id": "15f459ac",
   "metadata": {},
   "source": [
    "## 井点数据预处理\n"
   ]
  },
  {
   "cell_type": "code",
   "execution_count": null,
   "id": "3a7cba87",
   "metadata": {},
   "outputs": [],
   "source": [
    "import numpy as np\n",
    "import pandas as pd"
   ]
  },
  {
   "cell_type": "code",
   "execution_count": null,
   "id": "e6af1b29",
   "metadata": {},
   "outputs": [],
   "source": [
    "file_well = \"../../data/well_group.xlsx\"\n",
    "data_well = pd.read_excel(file_well, sheet_name=\"Sheet1\")\n",
    "\n",
    "data_well.head()"
   ]
  },
  {
   "cell_type": "code",
   "execution_count": null,
   "id": "d02417ff",
   "metadata": {},
   "outputs": [],
   "source": [
    "# 只保留excel的A~C, J, K, AB~AR列\n",
    "# # 获取所有列名\n",
    "# all_columns = data_well.columns\n",
    "# # 选择需要保留的列\n",
    "# selected_columns = list(all_columns[0:3])  # A~C列\n",
    "# selected_columns.extend(list(all_columns[9:11]))  # J, K列\n",
    "# selected_columns.extend(list(all_columns[27:29]))  # AB, AC列\n",
    "\n",
    "selected_columns = data_well.columns\n",
    "\n",
    "# 只保留需要的列，并删除层位是P0的行\n",
    "filtered_data = data_well[selected_columns]\n",
    "filtered_data = filtered_data[filtered_data[\"Surface\"] != \"P0\"]\n",
    "print(\"筛选后的列：\", filtered_data.columns.tolist())\n",
    "print(\"筛选后的数据形状：\", filtered_data.shape)\n",
    "print(\"\\n筛选后的数据前5行：\")\n",
    "print(filtered_data.head())"
   ]
  },
  {
   "cell_type": "code",
   "execution_count": null,
   "id": "9df7df06",
   "metadata": {},
   "outputs": [],
   "source": [
    "# 统计\"Well\"这一列有多少个值，并处理每个Well\n",
    "well_column = filtered_data.columns[4]  # 井名在第4列\n",
    "sand_thickness_column = filtered_data.columns[5]  # 砂厚在第5列\n",
    "sand_ratio_column = filtered_data.columns[6]  # 砂地比在第6列\n",
    "\n",
    "unique_wells = filtered_data[well_column].unique()\n",
    "print(f\"\\n共有 {len(unique_wells)} 个不同的井点值\")\n",
    "\n",
    "# 存储处理后的数据\n",
    "final_data = pd.DataFrame(columns=filtered_data.columns)\n",
    "\n",
    "# 要删除的井点列表\n",
    "wells_to_delete = []\n",
    "\n",
    "# 循环处理每个井点\n",
    "for well in unique_wells:\n",
    "    # 1. 删除指定井点\n",
    "    if well in wells_to_delete:\n",
    "        print(f\"\\n井点 {well} 在指定删除列表中，已删除。\")\n",
    "        continue\n",
    "\n",
    "    # 获取当前井的数据\n",
    "    well_data = filtered_data[filtered_data[well_column] == well]\n",
    "\n",
    "    # # 2. 删除少于5行的井点\n",
    "    # if len(well_data) < 10:\n",
    "    #     print(f\"\\n井点 {well} 只有 {len(well_data)} 行数据，已删除。\")\n",
    "    #     continue\n",
    "\n",
    "    # 3. 检查砂厚和砂地比列的异常值比例\n",
    "    sand_thickness_anomaly_ratio = (well_data[sand_thickness_column] == -999).mean()\n",
    "    sand_ratio_anomaly_ratio = (well_data[sand_ratio_column] == -999).mean()\n",
    "\n",
    "    # 如果砂厚或砂地比的异常值比例超过70%，则删除该井\n",
    "    if sand_thickness_anomaly_ratio > 0.7 or sand_ratio_anomaly_ratio > 0.7:\n",
    "        print(\n",
    "            f\"\\n井点 {well} 的砂厚异常值比例为 {sand_thickness_anomaly_ratio:.2%}，砂地比异常值比例为 {sand_ratio_anomaly_ratio:.2%}，已删除。\"\n",
    "        )\n",
    "        continue\n",
    "\n",
    "    # 保留符合条件的井点数据\n",
    "    final_data = pd.concat([final_data, well_data], ignore_index=True)\n",
    "    print(f\"\\n井点 {well} 有 {len(well_data)} 行数据，已保留。前5行数据：\")\n",
    "    print(well_data.head())\n",
    "\n",
    "print(f\"\\n处理后总共保留了 {len(final_data)} 行数据，包含 {len(final_data[well_column].unique())} 个井点\")\n",
    "\n",
    "# 保存处理后的数据\n",
    "final_data.to_excel(\"../../data/well_group_processed.xlsx\", index=False)"
   ]
  }
 ],
 "metadata": {
  "kernelspec": {
   "display_name": "env-af",
   "language": "python",
   "name": "python3"
  },
  "language_info": {
   "codemirror_mode": {
    "name": "ipython",
    "version": 3
   },
   "file_extension": ".py",
   "mimetype": "text/x-python",
   "name": "python",
   "nbconvert_exporter": "python",
   "pygments_lexer": "ipython3",
   "version": "3.10.18"
  }
 },
 "nbformat": 4,
 "nbformat_minor": 5
}
