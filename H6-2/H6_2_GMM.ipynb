{
 "cells": [
  {
   "cell_type": "markdown",
   "id": "5c25782a",
   "metadata": {},
   "source": [
    "# GMM 再测试\n"
   ]
  },
  {
   "cell_type": "code",
   "execution_count": null,
   "id": "52717610",
   "metadata": {},
   "outputs": [],
   "source": [
    "# 确保src目录在Python路径中\n",
    "import os\n",
    "import sys\n",
    "\n",
    "import matplotlib.pyplot as plt\n",
    "import numpy as np\n",
    "import pandas as pd\n",
    "\n",
    "sys.path.append(os.path.abspath(\"../\"))\n",
    "\n",
    "# 导入模块\n",
    "from src.data_utils import (\n",
    "    extract_seismic_attributes_for_wells,\n",
    "    extract_uniform_seismic_samples,\n",
    "    filter_anomalous_attributes,\n",
    "    filter_outlier_wells,\n",
    "    filter_seismic_by_wells,\n",
    "    identify_attributes,\n",
    "    parse_petrel_file,\n",
    "    preprocess_features,\n",
    ")\n",
    "from src.feature_selection import select_best_features\n",
    "from src.gmm_clustering import evaluate_gmm_clusters, perform_gmm_clustering\n",
    "from src.pca_analysis import perform_pca_analysis\n",
    "from src.visualization import visualize_attribute_map, visualize_gmm_clustering, visualize_pca_clustering\n",
    "\n",
    "data_dir = \"..\\\\data\"\n",
    "output_dir = \"output\"\n",
    "if not os.path.exists(output_dir):\n",
    "    os.makedirs(output_dir)\n",
    "\n",
    "\n",
    "# 设置中文字体\n",
    "plt.rcParams[\"font.family\"] = \"SimHei\"  # 黑体 SimHei 支持中文\n",
    "plt.rcParams[\"axes.unicode_minus\"] = False  # 正常显示负号"
   ]
  },
  {
   "cell_type": "markdown",
   "id": "474aaecf",
   "metadata": {},
   "source": [
    "## 导入地震数据\n"
   ]
  },
  {
   "cell_type": "code",
   "execution_count": null,
   "id": "deef7e28",
   "metadata": {},
   "outputs": [],
   "source": [
    "data_seismic_attr = parse_petrel_file(os.path.join(data_dir, \"H6-2_attr\"))"
   ]
  },
  {
   "cell_type": "markdown",
   "id": "9ac4b168",
   "metadata": {},
   "source": [
    "## 导入井点位置\n"
   ]
  },
  {
   "cell_type": "code",
   "execution_count": null,
   "id": "3c828d6e",
   "metadata": {},
   "outputs": [],
   "source": [
    "data_well_position = pd.read_excel(os.path.join(data_dir, \"well_without_attr.xlsx\"))\n",
    "\n",
    "# 选择对应层位的行，丢弃砂厚为 NaN 的行\n",
    "data_well_purpose_surface_position = (\n",
    "    data_well_position[data_well_position[\"Surface\"] == \"H6-2\"]\n",
    "    .replace(-999, np.nan)  # 将-999替换为NaN\n",
    "    .dropna(subset=[\"Sand Thickness\"])  # 丢弃砂厚为NaN的行\n",
    "    .reset_index(drop=True)  # 重置索引\n",
    ")\n",
    "data_well_purpose_surface_position.head()"
   ]
  },
  {
   "cell_type": "markdown",
   "id": "dcdeacfb",
   "metadata": {},
   "source": [
    "## 筛除离群井\n"
   ]
  },
  {
   "cell_type": "code",
   "execution_count": null,
   "id": "dfe88af1",
   "metadata": {},
   "outputs": [],
   "source": [
    "# 筛选离群井\n",
    "data_well_purpose_surface_filtered = filter_outlier_wells(data_well_purpose_surface_position, method=\"iqr\")\n",
    "\n",
    "# 显示筛选前后的井点数量\n",
    "print(f\"筛选前井点数量: {len(data_well_purpose_surface_position)}\")\n",
    "print(f\"筛选后井点数量: {len(data_well_purpose_surface_filtered)}\")\n",
    "\n",
    "# 可视化筛选前后的井点分布\n",
    "plt.figure(figsize=(12, 6))\n",
    "\n",
    "# 计算坐标范围（使用所有井点的数据来确定范围）\n",
    "x_min = data_well_purpose_surface_position[\"X\"].min()\n",
    "x_max = data_well_purpose_surface_position[\"X\"].max()\n",
    "y_min = data_well_purpose_surface_position[\"Y\"].min()\n",
    "y_max = data_well_purpose_surface_position[\"Y\"].max()\n",
    "\n",
    "# 可选：添加一些边距使图更美观\n",
    "margin = 0.05  # 5%的边距\n",
    "x_range = x_max - x_min\n",
    "y_range = y_max - y_min\n",
    "x_min -= x_range * margin\n",
    "x_max += x_range * margin\n",
    "y_min -= y_range * margin\n",
    "y_max += y_range * margin\n",
    "\n",
    "# 绘制筛选前的井点分布\n",
    "plt.subplot(1, 2, 1)\n",
    "plt.scatter(data_well_purpose_surface_position[\"X\"], data_well_purpose_surface_position[\"Y\"], c=\"blue\")\n",
    "plt.title(\"筛选前井点分布\")\n",
    "plt.xlabel(\"X坐标\")\n",
    "plt.ylabel(\"Y坐标\")\n",
    "plt.xlim(x_min, x_max)\n",
    "plt.ylim(y_min, y_max)\n",
    "\n",
    "# 绘制筛选后的井点分布\n",
    "plt.subplot(1, 2, 2)\n",
    "plt.scatter(data_well_purpose_surface_filtered[\"X\"], data_well_purpose_surface_filtered[\"Y\"], c=\"red\")\n",
    "plt.title(\"筛选后井点分布\")\n",
    "plt.xlabel(\"X坐标\")\n",
    "plt.ylabel(\"Y坐标\")\n",
    "plt.xlim(x_min, x_max)\n",
    "plt.ylim(y_min, y_max)\n",
    "\n",
    "plt.tight_layout()\n",
    "plt.savefig(os.path.join(output_dir, \"well_filtering_comparison.png\"))\n",
    "plt.show()"
   ]
  },
  {
   "cell_type": "markdown",
   "id": "5417bfe2",
   "metadata": {},
   "source": [
    "## 处理属性缺失值\n"
   ]
  },
  {
   "cell_type": "code",
   "execution_count": null,
   "id": "425febc3",
   "metadata": {},
   "outputs": [],
   "source": [
    "# 首先获取地震属性列表\n",
    "attribute_names, _ = identify_attributes(os.path.join(data_dir, \"H6-2_attr\"))\n",
    "\n",
    "# 使用preprocess_features处理地震数据\n",
    "processed_seismic, attr_stats = preprocess_features(\n",
    "    data=data_seismic_attr,\n",
    "    attribute_columns=attribute_names,\n",
    "    missing_values=[-999],\n",
    "    missing_threshold=0.6,  # 缺失值超过60%的列将被删除\n",
    "    outlier_method=\"iqr\",\n",
    "    outlier_threshold=1.5,\n",
    "    verbose=True,\n",
    ")\n",
    "\n",
    "# 提取筛选后的属性\n",
    "attribute_names_filtered = [col for col in processed_seismic.columns]\n",
    "\n",
    "# 将处理后的属性数据与原始坐标数据合并\n",
    "processed_seismic_full = data_seismic_attr[[\"X\", \"Y\"]].copy()\n",
    "for col in processed_seismic.columns:\n",
    "    processed_seismic_full[col] = processed_seismic[col]"
   ]
  },
  {
   "cell_type": "markdown",
   "id": "4fea1706",
   "metadata": {},
   "source": [
    "## 根据井点分布，缩小工区范围\n"
   ]
  },
  {
   "cell_type": "code",
   "execution_count": null,
   "id": "8e78025a",
   "metadata": {},
   "outputs": [],
   "source": [
    "# 限制工区范围\n",
    "seismic_attr_filtered, area_bounds = filter_seismic_by_wells(\n",
    "    seismic_data=processed_seismic_full,\n",
    "    well_data=data_well_purpose_surface_filtered,\n",
    "    expansion_factor=1.5,  # 扩展50%\n",
    "    plot=True,\n",
    "    output_dir=output_dir,\n",
    ")\n",
    "\n",
    "# 后续可以直接使用area_bounds中的边界信息\n",
    "print(\"区域边界信息:\")\n",
    "for key, value in area_bounds.items():\n",
    "    print(f\"  {key}: {value}\")"
   ]
  },
  {
   "cell_type": "markdown",
   "id": "e098f98d",
   "metadata": {},
   "source": [
    "## 提取井点处地震属性\n"
   ]
  },
  {
   "cell_type": "code",
   "execution_count": null,
   "id": "fbaf5382",
   "metadata": {},
   "outputs": [],
   "source": [
    "# 为筛选前的井点提取地震属性\n",
    "well_attr = extract_seismic_attributes_for_wells(\n",
    "    well_data=data_well_purpose_surface_position,\n",
    "    seismic_data=processed_seismic_full,\n",
    "    max_distance=50,\n",
    "    num_points=5,\n",
    ")\n",
    "\n",
    "# 为筛选后的井点提取地震属性\n",
    "well_attr_filtered = extract_seismic_attributes_for_wells(\n",
    "    well_data=data_well_purpose_surface_filtered, seismic_data=processed_seismic_full, max_distance=50, num_points=5\n",
    ")\n",
    "\n",
    "# 保存处理结果\n",
    "well_attr.to_excel(os.path.join(data_dir, \"wells_attr.xlsx\"), index=False)\n",
    "print(\"筛选前井点的地震属性已保存到 wells_attr.xlsx\")\n",
    "well_attr_filtered.to_excel(os.path.join(data_dir, \"wells_attr_filtered.xlsx\"), index=False)\n",
    "print(\"筛选后井点的地震属性已保存到 wells_attr_filtered.xlsx\")"
   ]
  },
  {
   "cell_type": "markdown",
   "id": "97531786",
   "metadata": {},
   "source": [
    "## 生成统计摘要\n"
   ]
  },
  {
   "cell_type": "code",
   "execution_count": null,
   "id": "3ebefe7c",
   "metadata": {},
   "outputs": [],
   "source": [
    "# 筛选出质量良好的属性\n",
    "good_attributes, anomalous_attributes, attribute_stats = filter_anomalous_attributes(\n",
    "    seismic_data=seismic_attr_filtered,\n",
    "    well_data=well_attr_filtered,\n",
    "    common_attributes=attribute_names_filtered,\n",
    "    ratio_threshold=5.0,  # 均值比值阈值\n",
    "    range_ratio_threshold=10.0,  # 数值范围比值阈值\n",
    "    std_ratio_threshold=10.0,  # 标准差比值阈值\n",
    "    output_dir=None,  # 输出图表目录\n",
    "    verbose=True,  # 打印详细信息\n",
    ")\n",
    "\n",
    "print(\"\\n筛选后保留的质量良好属性:\")\n",
    "for attr in good_attributes:\n",
    "    print(f\"- {attr}\")"
   ]
  },
  {
   "cell_type": "markdown",
   "id": "d2770db5",
   "metadata": {},
   "source": [
    "## PCA 降维\n"
   ]
  },
  {
   "cell_type": "code",
   "execution_count": null,
   "id": "cf3faf5d",
   "metadata": {},
   "outputs": [],
   "source": [
    "pca_results = perform_pca_analysis(\n",
    "    data=seismic_attr_filtered,\n",
    "    attribute_columns=good_attributes,\n",
    "    variance_threshold=0.75,\n",
    "    output_dir=output_dir,\n",
    ")"
   ]
  },
  {
   "cell_type": "markdown",
   "id": "89045439",
   "metadata": {},
   "source": [
    "## GMM 聚类\n"
   ]
  },
  {
   "cell_type": "code",
   "execution_count": null,
   "id": "10980a9c",
   "metadata": {},
   "outputs": [],
   "source": [
    "# 首先评估最佳聚类数\n",
    "gmm_evaluation = evaluate_gmm_clusters(features_pca=pca_results[\"features_pca\"], max_clusters=10, output_dir=output_dir)\n",
    "\n",
    "# 使用不同的聚类数执行GMM聚类\n",
    "# 根据BIC/AIC结果选择的最佳聚类数\n",
    "# best_n = gmm_evaluation[\"best_n_components\"]"
   ]
  },
  {
   "cell_type": "code",
   "execution_count": null,
   "id": "856b0262",
   "metadata": {},
   "outputs": [],
   "source": [
    "best_n = 3  # 聚类数量\n",
    "\n",
    "# 1. 执行GMM聚类\n",
    "gmm_results = perform_gmm_clustering(\n",
    "    features=pca_results[\"features_pca\"],\n",
    "    coords=pca_results[\"coords_clean\"],\n",
    "    n_clusters=best_n,\n",
    ")\n",
    "gmm_results[\"result_df\"].to_csv(os.path.join(output_dir, \"gmm_best_clusters.csv\"), index=False)\n",
    "\n",
    "# 2. PCA可视化，需要将井点数据投影到PCA空间\n",
    "# 首先提取井点的属性列\n",
    "well_features = well_attr_filtered[pca_results[\"features_clean\"].columns].values\n",
    "# 使用相同的标准化器和PCA模型变换井点数据\n",
    "well_features_scaled = pca_results[\"scaler\"].transform(well_features)\n",
    "well_pca_features = pca_results[\"pca\"].transform(well_features_scaled)\n",
    "\n",
    "# 3. 在PCA空间中可视化聚类结果\n",
    "visualize_pca_clustering(\n",
    "    clustering_results=gmm_results,\n",
    "    pca_results=pca_results,\n",
    "    n_clusters=best_n,\n",
    "    output_dir=output_dir,\n",
    "    prefix=\"pca\",\n",
    "    well_data=data_well_purpose_surface_filtered,\n",
    "    well_pca_features=well_pca_features,\n",
    "    target_column=\"Sand Thickness\",\n",
    "    class_thresholds=[0.1, 10],\n",
    ")\n",
    "\n",
    "# 4. 在地理空间中可视化聚类结果\n",
    "visualize_gmm_clustering(\n",
    "    clustering_results=gmm_results,\n",
    "    output_dir=output_dir,\n",
    "    prefix=\"pca\",\n",
    "    well_data=data_well_purpose_surface_filtered,\n",
    "    target_column=\"Sand Thickness\",\n",
    "    class_thresholds=[0.1, 10],\n",
    "    point_size=120,\n",
    "    well_size=200,\n",
    ")"
   ]
  }
 ],
 "metadata": {
  "kernelspec": {
   "display_name": "attr_fusion_20250428",
   "language": "python",
   "name": "python3"
  },
  "language_info": {
   "codemirror_mode": {
    "name": "ipython",
    "version": 3
   },
   "file_extension": ".py",
   "mimetype": "text/x-python",
   "name": "python",
   "nbconvert_exporter": "python",
   "pygments_lexer": "ipython3",
   "version": "3.10.17"
  }
 },
 "nbformat": 4,
 "nbformat_minor": 5
}
